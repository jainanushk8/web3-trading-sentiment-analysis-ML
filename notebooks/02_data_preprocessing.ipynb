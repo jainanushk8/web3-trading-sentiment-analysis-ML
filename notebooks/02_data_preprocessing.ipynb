{
 "cells": [
  {
   "cell_type": "code",
   "execution_count": 1,
   "id": "de825d31-d17f-47e8-8127-05f0e34dfbb8",
   "metadata": {},
   "outputs": [
    {
     "name": "stdout",
     "output_type": "stream",
     "text": [
      "🛠️ **DATA PREPROCESSING & TIME ALIGNMENT**\n",
      "============================================================\n",
      "📅 Processing Date: 2025-08-08 18:13:15\n"
     ]
    }
   ],
   "source": [
    "# Web3 Trading Analysis - Data Preprocessing\n",
    "import pandas as pd\n",
    "import numpy as np\n",
    "import matplotlib.pyplot as plt\n",
    "import seaborn as sns\n",
    "from datetime import datetime\n",
    "import warnings\n",
    "warnings.filterwarnings('ignore')\n",
    "\n",
    "# Import custom modules\n",
    "import sys\n",
    "from pathlib import Path\n",
    "sys.path.append(str(Path('../src').resolve()))\n",
    "\n",
    "from preprocessor import WebTradingPreprocessor, TimestampProcessor\n",
    "from utils import DataProfiler\n",
    "\n",
    "print(\"🛠️ **DATA PREPROCESSING & TIME ALIGNMENT**\")\n",
    "print(\"=\" * 60)\n",
    "print(f\"📅 Processing Date: {datetime.now().strftime('%Y-%m-%d %H:%M:%S')}\")\n"
   ]
  },
  {
   "cell_type": "code",
   "execution_count": 2,
   "id": "57bdfc8b-5b33-446e-b0ff-e96645873190",
   "metadata": {},
   "outputs": [
    {
     "name": "stdout",
     "output_type": "stream",
     "text": [
      "📥 Loading raw datasets for preprocessing...\n",
      "\n",
      "✅ Raw sentiment data: (2644, 4)\n",
      "✅ Raw trading data: (211224, 16)\n",
      "\n",
      "🕒 **TIMESTAMP COLUMNS PREVIEW:**\n",
      "\n",
      "Sentiment Data:\n",
      "   timestamp: 1517463000 (int64)\n",
      "   date: 2018-02-01 (object)\n",
      "\n",
      "Trading Data:\n",
      "   Timestamp IST: 02-12-2024 22:50 (object)\n",
      "   Timestamp: 1730000000000.0 (float64)\n"
     ]
    }
   ],
   "source": [
    "# Load raw datasets\n",
    "print(\"📥 Loading raw datasets for preprocessing...\\n\")\n",
    "\n",
    "# Load datasets\n",
    "sentiment_df = pd.read_csv(\"../data/raw/fear_greed_index.csv\")\n",
    "trading_df = pd.read_csv(\"../data/raw/historical_trader_data.csv\")\n",
    "\n",
    "print(f\"✅ Raw sentiment data: {sentiment_df.shape}\")\n",
    "print(f\"✅ Raw trading data: {trading_df.shape}\")\n",
    "\n",
    "# Quick preview of timestamp columns\n",
    "print(\"\\n🕒 **TIMESTAMP COLUMNS PREVIEW:**\")\n",
    "print(\"\\nSentiment Data:\")\n",
    "for col in sentiment_df.columns:\n",
    "    if any(keyword in col.lower() for keyword in ['date', 'time', 'timestamp']):\n",
    "        print(f\"   {col}: {sentiment_df[col].iloc[0]} ({sentiment_df[col].dtype})\")\n",
    "\n",
    "print(\"\\nTrading Data:\")  \n",
    "for col in trading_df.columns:\n",
    "    if any(keyword in col.lower() for keyword in ['date', 'time', 'timestamp']):\n",
    "        print(f\"   {col}: {trading_df[col].iloc[0]} ({trading_df[col].dtype})\")\n"
   ]
  },
  {
   "cell_type": "code",
   "execution_count": 3,
   "id": "7783116f-b571-4591-a9c6-86480f9d45ff",
   "metadata": {},
   "outputs": [
    {
     "name": "stdout",
     "output_type": "stream",
     "text": [
      "🚀 **Preprocessor initialized successfully!**\n",
      "\n",
      "Available processing methods:\n",
      "   • preprocess_sentiment_data()\n",
      "   • preprocess_trading_data()\n",
      "   • validate_processed_data()\n",
      "   • create_alignment_summary()\n"
     ]
    }
   ],
   "source": [
    "# Initialize the main preprocessor\n",
    "preprocessor = WebTradingPreprocessor()\n",
    "\n",
    "print(\"🚀 **Preprocessor initialized successfully!**\")\n",
    "print(\"\\nAvailable processing methods:\")\n",
    "print(\"   • preprocess_sentiment_data()\")\n",
    "print(\"   • preprocess_trading_data()\")\n",
    "print(\"   • validate_processed_data()\")\n",
    "print(\"   • create_alignment_summary()\")\n"
   ]
  },
  {
   "cell_type": "code",
   "execution_count": 4,
   "id": "7ceea5cc-fb65-4f09-8e55-0cf1ff213d9b",
   "metadata": {},
   "outputs": [
    {
     "name": "stdout",
     "output_type": "stream",
     "text": [
      "😰😤 **PREPROCESSING SENTIMENT DATA**\n",
      "==================================================\n",
      "🔄 Processing timestamp column: timestamp\n",
      "✅ No duplicates found\n",
      "✅ Sentiment data preprocessing complete: (2644, 7)\n",
      "\n",
      "📊 **SENTIMENT DATA PROCESSING RESULTS:**\n",
      "   • Original shape: (2644, 4)\n",
      "   • Processed shape: (2644, 7)\n",
      "   • New columns added: {'date_parsed', 'date_standardized', 'timestamp_UTC'}\n",
      "\n",
      "📋 **PROCESSED SENTIMENT DATA SAMPLE:**\n",
      "         date classification  value date_standardized\n",
      "0  2018-02-01           Fear     30        2018-02-01\n",
      "1  2018-02-02   Extreme Fear     15        2018-02-02\n",
      "2  2018-02-03           Fear     40        2018-02-03\n",
      "3  2018-02-04   Extreme Fear     24        2018-02-04\n",
      "4  2018-02-05   Extreme Fear     11        2018-02-05\n"
     ]
    }
   ],
   "source": [
    "# Preprocess sentiment data\n",
    "sentiment_processed = preprocessor.preprocess_sentiment_data(sentiment_df)\n",
    "\n",
    "# Show processing results\n",
    "print(f\"\\n📊 **SENTIMENT DATA PROCESSING RESULTS:**\")\n",
    "print(f\"   • Original shape: {sentiment_df.shape}\")\n",
    "print(f\"   • Processed shape: {sentiment_processed.shape}\")\n",
    "print(f\"   • New columns added: {set(sentiment_processed.columns) - set(sentiment_df.columns)}\")\n",
    "\n",
    "# Preview processed data\n",
    "print(f\"\\n📋 **PROCESSED SENTIMENT DATA SAMPLE:**\")\n",
    "print(sentiment_processed[['date', 'classification', 'value', 'date_standardized']].head())\n"
   ]
  },
  {
   "cell_type": "code",
   "execution_count": 5,
   "id": "96275f54-3b62-4b91-85b7-a4f85b27b003",
   "metadata": {},
   "outputs": [
    {
     "name": "stdout",
     "output_type": "stream",
     "text": [
      "\n",
      "📈 **PREPROCESSING TRADING DATA**\n",
      "==================================================\n",
      "🔄 Processing timestamp column: Timestamp IST\n",
      "🔄 Processing timestamp column: Timestamp\n",
      "📊 Size USD: 32,661 outliers detected (>1.5×IQR)\n",
      "📊 Closed PnL: 48,941 outliers detected (>1.5×IQR)\n",
      "🧹 Removed 175,666 duplicate rows\n",
      "✅ Trading data preprocessing complete: (35558, 21)\n",
      "\n",
      "📊 **TRADING DATA PROCESSING RESULTS:**\n",
      "   • Original shape: (211224, 16)\n",
      "   • Processed shape: (35558, 21)\n",
      "   • New columns added: {'Timestamp IST_UTC', 'Timestamp_UTC', 'Closed PnL_outlier_flag', 'Size USD_outlier_flag', 'trading_date'}\n",
      "\n",
      "📋 **PROCESSED TRADING DATA SAMPLE:**\n",
      "                                      Account Side  Coin  Closed PnL  \\\n",
      "0  0xae5eacaf9c6b9111fd53034a602c192a04e082ed  BUY  @107         0.0   \n",
      "1  0xae5eacaf9c6b9111fd53034a602c192a04e082ed  BUY  @107         0.0   \n",
      "2  0xae5eacaf9c6b9111fd53034a602c192a04e082ed  BUY  @107         0.0   \n",
      "3  0xae5eacaf9c6b9111fd53034a602c192a04e082ed  BUY  @107         0.0   \n",
      "4  0xae5eacaf9c6b9111fd53034a602c192a04e082ed  BUY  @107         0.0   \n",
      "\n",
      "      Timestamp IST trading_date  \n",
      "0  02-12-2024 22:50   2024-12-02  \n",
      "1  02-12-2024 22:50   2024-12-02  \n",
      "2  02-12-2024 22:50   2024-12-02  \n",
      "3  02-12-2024 22:50   2024-12-02  \n",
      "4  02-12-2024 22:50   2024-12-02  \n"
     ]
    }
   ],
   "source": [
    "# Preprocess trading data\n",
    "trading_processed = preprocessor.preprocess_trading_data(trading_df)\n",
    "\n",
    "# Show processing results\n",
    "print(f\"\\n📊 **TRADING DATA PROCESSING RESULTS:**\")\n",
    "print(f\"   • Original shape: {trading_df.shape}\")\n",
    "print(f\"   • Processed shape: {trading_processed.shape}\")\n",
    "print(f\"   • New columns added: {set(trading_processed.columns) - set(trading_df.columns)}\")\n",
    "\n",
    "# Preview key processed columns\n",
    "print(f\"\\n📋 **PROCESSED TRADING DATA SAMPLE:**\")\n",
    "key_cols = ['Account', 'Side', 'Coin', 'Closed PnL', 'Timestamp IST', 'trading_date']\n",
    "available_cols = [col for col in key_cols if col in trading_processed.columns]\n",
    "print(trading_processed[available_cols].head())\n"
   ]
  },
  {
   "cell_type": "code",
   "execution_count": 6,
   "id": "ff2f6fe9-1e7b-4b5e-8d88-70c38b16c2d9",
   "metadata": {},
   "outputs": [
    {
     "name": "stdout",
     "output_type": "stream",
     "text": [
      "\n",
      "🔍 **VALIDATING PROCESSED DATA**\n",
      "==================================================\n",
      "🔍 **DATA VALIDATION RESULTS:**\n",
      "==================================================\n",
      "\n",
      "📊 **SENTIMENT VALIDATION:**\n",
      "   • actual_start: 2018-02-01 00:00:00\n",
      "   • actual_end: 2025-05-02 00:00:00\n",
      "   • expected_start: 2018-02-01 00:00:00\n",
      "   • expected_end: 2025-08-08 00:00:00\n",
      "   • start_match: True\n",
      "   • end_match: False\n",
      "   • total_days: 2647\n",
      "   • missing_count: 4\n",
      "   ⚠️ Missing 4 dates\n",
      "\n",
      "📊 **TRADING VALIDATION:**\n",
      "   • actual_start: 2023-04-30 00:00:00\n",
      "   • actual_end: 2025-05-01 00:00:00\n",
      "   • expected_start: 2024-01-01 00:00:00\n",
      "   • expected_end: 2025-08-08 00:00:00\n",
      "   • start_match: False\n",
      "   • end_match: False\n",
      "   • total_days: 732\n",
      "   • missing_count: 282\n",
      "   ⚠️ Missing 282 dates\n",
      "\n",
      "📊 **SENTIMENT_CONSISTENCY VALIDATION:**\n",
      "   • classification: {'value_check': {'all_valid': True, 'invalid_values': [], 'unique_count': 5}}\n",
      "   • value: {'range_check': {'min_valid': np.True_, 'max_valid': np.True_, 'actual_min': np.int64(5), 'actual_max': np.int64(95)}}\n",
      "\n",
      "📊 **TRADING_CONSISTENCY VALIDATION:**\n",
      "   • Side: {'value_check': {'all_valid': True, 'invalid_values': [], 'unique_count': 2}}\n",
      "   • Closed PnL: {'range_check': {'min_valid': np.True_, 'max_valid': np.True_, 'actual_min': np.float64(-83056.32), 'actual_max': np.float64(78682.72032)}}\n"
     ]
    }
   ],
   "source": [
    "# Validate processed data\n",
    "validation_results = preprocessor.validate_processed_data(sentiment_processed, trading_processed)\n",
    "\n",
    "print(\"🔍 **DATA VALIDATION RESULTS:**\")\n",
    "print(\"=\" * 50)\n",
    "\n",
    "# Show validation summary\n",
    "for dataset_name, results in validation_results.items():\n",
    "    if isinstance(results, dict) and 'error' not in results:\n",
    "        print(f\"\\n📊 **{dataset_name.upper()} VALIDATION:**\")\n",
    "        for key, value in results.items():\n",
    "            if key not in ['missing_dates']:\n",
    "                print(f\"   • {key}: {value}\")\n",
    "        \n",
    "        if 'missing_count' in results and results['missing_count'] > 0:\n",
    "            print(f\"   ⚠️ Missing {results['missing_count']} dates\")\n"
   ]
  },
  {
   "cell_type": "code",
   "execution_count": 7,
   "id": "42aa5f8a-c6bd-429e-b4fe-436f4b7da590",
   "metadata": {},
   "outputs": [
    {
     "name": "stdout",
     "output_type": "stream",
     "text": [
      "\n",
      "📊 **DATA ALIGNMENT SUMMARY**\n",
      "==================================================\n",
      "📊 **DATA ALIGNMENT ANALYSIS:**\n",
      "==================================================\n",
      "\n",
      "🗂️ **Sentiment Date Range:**\n",
      "   • start: 2018-02-01\n",
      "   • end: 2025-05-02\n",
      "   • total_days: 2644\n",
      "   • unique_dates: 2644\n",
      "\n",
      "🗂️ **Trading Date Range:**\n",
      "   • start: 2023-04-30\n",
      "   • end: 2025-05-01\n",
      "   • total_trades: 35558\n",
      "   • unique_trading_dates: 451\n",
      "\n",
      "🗂️ **Overlap Analysis:**\n",
      "   • overlapping_dates: 451\n",
      "   • sentiment_only_dates: 2193\n",
      "   • trading_only_dates: 0\n",
      "   • overlap_percentage: 17.1\n"
     ]
    }
   ],
   "source": [
    "# Create alignment summary\n",
    "alignment_summary = preprocessor.create_alignment_summary(sentiment_processed, trading_processed)\n",
    "\n",
    "print(\"📊 **DATA ALIGNMENT ANALYSIS:**\")\n",
    "print(\"=\" * 50)\n",
    "\n",
    "for key, values in alignment_summary.items():\n",
    "    print(f\"\\n🗂️ **{key.replace('_', ' ').title()}:**\")\n",
    "    if isinstance(values, dict):\n",
    "        for sub_key, sub_value in values.items():\n",
    "            if isinstance(sub_value, float):\n",
    "                print(f\"   • {sub_key}: {sub_value:.1f}\")\n",
    "            else:\n",
    "                print(f\"   • {sub_key}: {sub_value}\")\n"
   ]
  },
  {
   "cell_type": "code",
   "execution_count": 8,
   "id": "47084ddd-cfbf-40c2-85ed-e4c7641bd610",
   "metadata": {},
   "outputs": [
    {
     "name": "stdout",
     "output_type": "stream",
     "text": [
      "💾 **SAVING PROCESSED DATA:**\n",
      "========================================\n",
      "✅ Processed sentiment data saved: data/processed/sentiment_processed.csv\n",
      "✅ Processed trading data saved: data/processed/trading_processed.csv\n",
      "\n",
      "📊 **FINAL PROCESSED DATA SUMMARY:**\n",
      "   • Sentiment records: 2,644\n",
      "   • Trading records: 35,558\n",
      "   • Memory usage: 22.56 MB\n",
      "\n",
      "🎯 **Phase 3A Complete - Data Preprocessing Success!**\n",
      "✅ Ready for Phase 3B: Feature Engineering\n"
     ]
    }
   ],
   "source": [
    "# Save processed datasets\n",
    "print(\"💾 **SAVING PROCESSED DATA:**\")\n",
    "print(\"=\" * 40)\n",
    "\n",
    "# Save to processed folder\n",
    "sentiment_processed.to_csv(\"../data/processed/sentiment_processed.csv\", index=False)\n",
    "trading_processed.to_csv(\"../data/processed/trading_processed.csv\", index=False)\n",
    "\n",
    "print(\"✅ Processed sentiment data saved: data/processed/sentiment_processed.csv\")\n",
    "print(\"✅ Processed trading data saved: data/processed/trading_processed.csv\")\n",
    "\n",
    "print(f\"\\n📊 **FINAL PROCESSED DATA SUMMARY:**\")\n",
    "print(f\"   • Sentiment records: {len(sentiment_processed):,}\")\n",
    "print(f\"   • Trading records: {len(trading_processed):,}\")\n",
    "print(f\"   • Memory usage: {(sentiment_processed.memory_usage(deep=True).sum() + trading_processed.memory_usage(deep=True).sum()) / 1024**2:.2f} MB\")\n",
    "\n",
    "print(f\"\\n🎯 **Phase 3A Complete - Data Preprocessing Success!**\")\n",
    "print(\"✅ Ready for Phase 3B: Feature Engineering\")\n"
   ]
  },
  {
   "cell_type": "code",
   "execution_count": null,
   "id": "945de200-2b99-436d-a67f-b92d24dfd363",
   "metadata": {},
   "outputs": [],
   "source": []
  }
 ],
 "metadata": {
  "kernelspec": {
   "display_name": "Python 3 (ipykernel)",
   "language": "python",
   "name": "python3"
  },
  "language_info": {
   "codemirror_mode": {
    "name": "ipython",
    "version": 3
   },
   "file_extension": ".py",
   "mimetype": "text/x-python",
   "name": "python",
   "nbconvert_exporter": "python",
   "pygments_lexer": "ipython3",
   "version": "3.10.11"
  }
 },
 "nbformat": 4,
 "nbformat_minor": 5
}
